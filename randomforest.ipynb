{
 "cells": [
  {
   "cell_type": "code",
   "execution_count": 28,
   "metadata": {},
   "outputs": [],
   "source": [
    "import yfinance as yf\n",
    "import numpy as np\n",
    "from sklearn.ensemble import RandomForestClassifier\n",
    "clf=RandomForestClassifier(max_depth=2, random_state=0)"
   ]
  },
  {
   "cell_type": "code",
   "execution_count": 29,
   "metadata": {},
   "outputs": [
    {
     "name": "stderr",
     "output_type": "stream",
     "text": [
      "[*********************100%***********************]  1 of 1 completed\n"
     ]
    },
    {
     "data": {
      "text/html": [
       "<div>\n",
       "<style scoped>\n",
       "    .dataframe tbody tr th:only-of-type {\n",
       "        vertical-align: middle;\n",
       "    }\n",
       "\n",
       "    .dataframe tbody tr th {\n",
       "        vertical-align: top;\n",
       "    }\n",
       "\n",
       "    .dataframe thead th {\n",
       "        text-align: right;\n",
       "    }\n",
       "</style>\n",
       "<table border=\"1\" class=\"dataframe\">\n",
       "  <thead>\n",
       "    <tr style=\"text-align: right;\">\n",
       "      <th></th>\n",
       "      <th>Open</th>\n",
       "      <th>High</th>\n",
       "      <th>Low</th>\n",
       "      <th>Close</th>\n",
       "      <th>Adj Close</th>\n",
       "      <th>Volume</th>\n",
       "    </tr>\n",
       "    <tr>\n",
       "      <th>Date</th>\n",
       "      <th></th>\n",
       "      <th></th>\n",
       "      <th></th>\n",
       "      <th></th>\n",
       "      <th></th>\n",
       "      <th></th>\n",
       "    </tr>\n",
       "  </thead>\n",
       "  <tbody>\n",
       "    <tr>\n",
       "      <th>2024-07-24</th>\n",
       "      <td>184.139999</td>\n",
       "      <td>185.070007</td>\n",
       "      <td>183.149994</td>\n",
       "      <td>184.020004</td>\n",
       "      <td>182.424484</td>\n",
       "      <td>6962100</td>\n",
       "    </tr>\n",
       "    <tr>\n",
       "      <th>2024-07-25</th>\n",
       "      <td>186.800003</td>\n",
       "      <td>196.259995</td>\n",
       "      <td>185.300003</td>\n",
       "      <td>191.979996</td>\n",
       "      <td>190.315460</td>\n",
       "      <td>9532800</td>\n",
       "    </tr>\n",
       "    <tr>\n",
       "      <th>2024-07-26</th>\n",
       "      <td>190.509995</td>\n",
       "      <td>193.570007</td>\n",
       "      <td>189.619995</td>\n",
       "      <td>191.750000</td>\n",
       "      <td>190.087448</td>\n",
       "      <td>4294900</td>\n",
       "    </tr>\n",
       "    <tr>\n",
       "      <th>2024-07-29</th>\n",
       "      <td>193.179993</td>\n",
       "      <td>193.289993</td>\n",
       "      <td>189.179993</td>\n",
       "      <td>191.500000</td>\n",
       "      <td>189.839615</td>\n",
       "      <td>3336800</td>\n",
       "    </tr>\n",
       "    <tr>\n",
       "      <th>2024-07-30</th>\n",
       "      <td>191.479996</td>\n",
       "      <td>192.770004</td>\n",
       "      <td>189.089996</td>\n",
       "      <td>191.039993</td>\n",
       "      <td>189.383606</td>\n",
       "      <td>3065000</td>\n",
       "    </tr>\n",
       "  </tbody>\n",
       "</table>\n",
       "</div>"
      ],
      "text/plain": [
       "                  Open        High         Low       Close   Adj Close  \\\n",
       "Date                                                                     \n",
       "2024-07-24  184.139999  185.070007  183.149994  184.020004  182.424484   \n",
       "2024-07-25  186.800003  196.259995  185.300003  191.979996  190.315460   \n",
       "2024-07-26  190.509995  193.570007  189.619995  191.750000  190.087448   \n",
       "2024-07-29  193.179993  193.289993  189.179993  191.500000  189.839615   \n",
       "2024-07-30  191.479996  192.770004  189.089996  191.039993  189.383606   \n",
       "\n",
       "             Volume  \n",
       "Date                 \n",
       "2024-07-24  6962100  \n",
       "2024-07-25  9532800  \n",
       "2024-07-26  4294900  \n",
       "2024-07-29  3336800  \n",
       "2024-07-30  3065000  "
      ]
     },
     "execution_count": 29,
     "metadata": {},
     "output_type": "execute_result"
    }
   ],
   "source": [
    "data = yf.download('IBM', start=\"2019-01-01\", end=\"2024-07-31\")\n",
    "\n",
    "# Display the data\n",
    "data.tail()"
   ]
  },
  {
   "cell_type": "code",
   "execution_count": 30,
   "metadata": {},
   "outputs": [],
   "source": [
    "data['Open-Close'] = (data.Open - data.Close)/data.Open\n",
    "data['High-Low'] = (data.High - data.Low)/data.Low\n",
    "data['percent_change'] = data['Adj Close'].pct_change()\n",
    "data['std_5'] = data['percent_change'].rolling(5).std()\n",
    "data['ret_5'] = data['percent_change'].rolling(5).mean()\n",
    "data.dropna(inplace=True)\n",
    "\n",
    "# X is the input variable\n",
    "X = data[['Open-Close', 'High-Low', 'std_5', 'ret_5']]\n",
    "\n",
    "# Y is the target or output variable\n",
    "y = np.where(data['Adj Close'].shift(-1) > data['Adj Close'], 1, -1)"
   ]
  },
  {
   "cell_type": "code",
   "execution_count": 31,
   "metadata": {},
   "outputs": [
    {
     "data": {
      "text/plain": [
       "1048"
      ]
     },
     "execution_count": 31,
     "metadata": {},
     "output_type": "execute_result"
    }
   ],
   "source": [
    "dataset_length = data.shape[0]\n",
    "\n",
    "# Training dataset length\n",
    "split = int(dataset_length * 0.75)\n",
    "split"
   ]
  },
  {
   "cell_type": "code",
   "execution_count": 32,
   "metadata": {},
   "outputs": [
    {
     "name": "stdout",
     "output_type": "stream",
     "text": [
      "(1048, 4) (350, 4)\n",
      "(1048,) (350,)\n"
     ]
    }
   ],
   "source": [
    "X_train, X_test = X[:split], X[split:]\n",
    "y_train, y_test = y[:split], y[split:]\n",
    "\n",
    "# Print the size of the train and test dataset\n",
    "print(X_train.shape, X_test.shape)\n",
    "print(y_train.shape, y_test.shape)"
   ]
  },
  {
   "cell_type": "code",
   "execution_count": 33,
   "metadata": {},
   "outputs": [
    {
     "name": "stdout",
     "output_type": "stream",
     "text": [
      "Correct Prediction:  56.285714285714285\n",
      "              precision    recall  f1-score   support\n",
      "\n",
      "          -1       0.50      0.14      0.22       153\n",
      "           1       0.57      0.89      0.70       197\n",
      "\n",
      "    accuracy                           0.56       350\n",
      "   macro avg       0.54      0.52      0.46       350\n",
      "weighted avg       0.54      0.56      0.49       350\n",
      "\n"
     ]
    }
   ],
   "source": [
    "# Create model \n",
    "model = clf.fit(X_train, y_train)\n",
    "from sklearn.metrics import accuracy_score\n",
    "print('Correct Prediction: ', accuracy_score(y_test, model.predict(X_test), normalize=True)*100.0)\n",
    "from sklearn.metrics import classification_report\n",
    "report = classification_report(y_test, model.predict(X_test))\n",
    "print(report)"
   ]
  },
  {
   "cell_type": "code",
   "execution_count": 34,
   "metadata": {},
   "outputs": [
    {
     "data": {
      "image/png": "[encoded data removed]",
      "text/plain": [
       "<Figure size 432x288 with 1 Axes>"
      ]
     },
     "metadata": {
      "needs_background": "light"
     },
     "output_type": "display_data"
    }
   ],
   "source": [
    "data['strategy_returns'] = data.percent_change.shift(-1) * model.predict(X)\n",
    "import matplotlib.pyplot as plt\n",
    "data.strategy_returns[split:].hist()\n",
    "plt.xlabel('Strategy returns (%)')\n",
    "plt.show()"
   ]
  },
  {
   "cell_type": "code",
   "execution_count": 35,
   "metadata": {},
   "outputs": [
    {
     "data": {
      "image/png": "[encoded data removed]",
      "text/plain": [
       "<Figure size 432x288 with 1 Axes>"
      ]
     },
     "metadata": {
      "needs_background": "light"
     },
     "output_type": "display_data"
    }
   ],
   "source": [
    "(data.strategy_returns[split:]+1).cumprod().plot()\n",
    "plt.ylabel('Strategy returns (%)')\n",
    "plt.show()"
   ]
  },
  {
   "cell_type": "markdown",
   "metadata": {},
   "source": []
  }
 ],
 "metadata": {
  "kernelspec": {
   "display_name": "base",
   "language": "python",
   "name": "python3"
  },
  "language_info": {
   "codemirror_mode": {
    "name": "ipython",
    "version": 3
   },
   "file_extension": ".py",
   "mimetype": "text/x-python",
   "name": "python",
   "nbconvert_exporter": "python",
   "pygments_lexer": "ipython3",
   "version": "3.9.7"
  }
 },
 "nbformat": 4,
 "nbformat_minor": 2
}
