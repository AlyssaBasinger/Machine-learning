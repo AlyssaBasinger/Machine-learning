{
 "cells": [
  {
   "cell_type": "code",
   "execution_count": 22,
   "metadata": {},
   "outputs": [
    {
     "name": "stdout",
     "output_type": "stream",
     "text": [
      "   bookID                                              title  \\\n",
      "0       1  Harry Potter and the Half-Blood Prince (Harry ...   \n",
      "1       2  Harry Potter and the Order of the Phoenix (Har...   \n",
      "2       4  Harry Potter and the Chamber of Secrets (Harry...   \n",
      "3       5  Harry Potter and the Prisoner of Azkaban (Harr...   \n",
      "4       8  Harry Potter Boxed Set  Books 1-5 (Harry Potte...   \n",
      "\n",
      "                      authors average_rating  \n",
      "0  J.K. Rowling/Mary GrandPré           4.57  \n",
      "1  J.K. Rowling/Mary GrandPré           4.49  \n",
      "2                J.K. Rowling           4.42  \n",
      "3  J.K. Rowling/Mary GrandPré           4.56  \n",
      "4  J.K. Rowling/Mary GrandPré           4.78  \n"
     ]
    }
   ],
   "source": [
    "import pandas as pd\n",
    "import numpy as np\n",
    "from sklearn.feature_extraction.text import TfidfVectorizer\n",
    "from sklearn.metrics.pairwise import linear_kernel\n",
    "import plotly.express as px\n",
    "import plotly.graph_objects as go\n",
    "data = pd.read_csv(\"books_data.csv\")\n",
    "print(data.head())"
   ]
  },
  {
   "cell_type": "code",
   "execution_count": 23,
   "metadata": {},
   "outputs": [],
   "source": [
    "data['book_content'] = data['title'] + ' ' + data['authors']\n",
    "tfidf_vectorizer = TfidfVectorizer(stop_words='english')\n",
    "tfidf_matrix = tfidf_vectorizer.fit_transform(data['book_content'])\n",
    "cosine_sim = linear_kernel(tfidf_matrix, tfidf_matrix)"
   ]
  },
  {
   "cell_type": "code",
   "execution_count": 24,
   "metadata": {},
   "outputs": [],
   "source": [
    "def recommend_books(book_title, cosine_sim=cosine_sim):\n",
    "    # index of the book that matches the title\n",
    "    index = data[data['title'] == book_title].index[0]\n",
    "\n",
    "    # cosine similarity scores for all books with this book\n",
    "    similarity_scores = list(enumerate(cosine_sim[index]))\n",
    "\n",
    "    # Sort the books based on the similarity scores\n",
    "    similarity_scores = sorted(similarity_scores, key=lambda x: x[1], reverse=True)\n",
    "\n",
    "    # Get the top 10 most similar books \n",
    "    similarity_scores = similarity_scores[1:11]\n",
    "\n",
    "    # Get the book indices\n",
    "    book_indices = [i[0] for i in similarity_scores]\n",
    "\n",
    "    # Return the top 10 recommended books\n",
    "    return data['title'].iloc[book_indices]"
   ]
  },
  {
   "cell_type": "code",
   "execution_count": 25,
   "metadata": {},
   "outputs": [
    {
     "name": "stdout",
     "output_type": "stream",
     "text": [
      "3688                      James Joyce's Ulysses\n",
      "3512                                    Ulysses\n",
      "2987                   The Portable James Joyce\n",
      "6196                              Ulysses Found\n",
      "2989                             Finnegans Wake\n",
      "6193        Ulysses S. Grant: The Unlikely Hero\n",
      "2102    A Portrait of the Artist as a Young Man\n",
      "2100    A Portrait of the Artist as a Young Man\n",
      "2103    A Portrait of the Artist as a Young Man\n",
      "6195    Allusions in Ulysses: An Annotated List\n",
      "Name: title, dtype: object\n"
     ]
    }
   ],
   "source": [
    "book_title = \"Ulysses\"\n",
    "recommended_books = recommend_books(book_title)\n",
    "print(recommended_books)"
   ]
  }
 ],
 "metadata": {
  "kernelspec": {
   "display_name": "base",
   "language": "python",
   "name": "python3"
  },
  "language_info": {
   "codemirror_mode": {
    "name": "ipython",
    "version": 3
   },
   "file_extension": ".py",
   "mimetype": "text/x-python",
   "name": "python",
   "nbconvert_exporter": "python",
   "pygments_lexer": "ipython3",
   "version": "3.9.7"
  }
 },
 "nbformat": 4,
 "nbformat_minor": 2
}
